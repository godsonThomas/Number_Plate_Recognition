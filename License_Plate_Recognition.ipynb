{
 "cells": [
  {
   "cell_type": "code",
   "execution_count": 8,
   "metadata": {},
   "outputs": [],
   "source": [
    "import cv2\n",
    "import pytesseract\n",
    "import imutils\n",
    "import numpy as np\n",
    "from PIL import Image"
   ]
  },
  {
   "cell_type": "code",
   "execution_count": 9,
   "metadata": {},
   "outputs": [],
   "source": [
    "pytesseract.pytesseract.tesseract_cmd = 'C:\\\\Program Files\\\\Tesseract-OCR\\\\tesseract.exe'"
   ]
  },
  {
   "cell_type": "code",
   "execution_count": 10,
   "metadata": {},
   "outputs": [],
   "source": [
    "img = cv2.imread('D:\\\\Projects\\\\OCR\\\\Images\\\\BMW.jpg',cv2.IMREAD_COLOR)\n",
    "img = imutils.resize(img, width=500 )\n",
    "cv2.imshow(\"Original Image\", img)\n",
    "cv2.waitKey(0)\n",
    "cv2.destroyAllWindows()  "
   ]
  },
  {
   "cell_type": "code",
   "execution_count": 11,
   "metadata": {},
   "outputs": [
    {
     "data": {
      "text/plain": [
       "array([[[15, 16, 14],\n",
       "        [14, 17, 15],\n",
       "        [13, 16, 14],\n",
       "        ...,\n",
       "        [12, 14, 14],\n",
       "        [14, 14, 14],\n",
       "        [14, 14, 14]],\n",
       "\n",
       "       [[ 1,  4,  2],\n",
       "        [ 1,  4,  2],\n",
       "        [ 1,  4,  2],\n",
       "        ...,\n",
       "        [ 1,  1,  1],\n",
       "        [ 1,  1,  1],\n",
       "        [ 1,  1,  1]],\n",
       "\n",
       "       [[ 2,  5,  3],\n",
       "        [ 2,  5,  3],\n",
       "        [ 1,  3,  3],\n",
       "        ...,\n",
       "        [ 1,  1,  1],\n",
       "        [ 1,  1,  1],\n",
       "        [ 1,  1,  1]],\n",
       "\n",
       "       ...,\n",
       "\n",
       "       [[21, 31, 38],\n",
       "        [24, 32, 39],\n",
       "        [28, 36, 43],\n",
       "        ...,\n",
       "        [16, 21, 24],\n",
       "        [12, 17, 18],\n",
       "        [16, 24, 24]],\n",
       "\n",
       "       [[14, 25, 29],\n",
       "        [24, 35, 39],\n",
       "        [27, 38, 42],\n",
       "        ...,\n",
       "        [17, 22, 25],\n",
       "        [14, 21, 24],\n",
       "        [ 4, 16, 18]],\n",
       "\n",
       "       [[35, 44, 47],\n",
       "        [37, 49, 51],\n",
       "        [35, 46, 50],\n",
       "        ...,\n",
       "        [34, 41, 44],\n",
       "        [29, 38, 41],\n",
       "        [28, 40, 42]]], dtype=uint8)"
      ]
     },
     "execution_count": 11,
     "metadata": {},
     "output_type": "execute_result"
    }
   ],
   "source": [
    "gray = cv2.cvtColor(img, cv2.COLOR_BGR2GRAY) #convert to grey scale\n",
    "gray = cv2.bilateralFilter(gray, 11, 17, 17) #Blur to reduce noise\n",
    "edged = cv2.Canny(gray, 30, 200) #Perform Edge detection\n",
    "\n",
    "cv2.imshow(\"Canny Edge Detection\", edged)\n",
    "cv2.waitKey(0)\n",
    "cv2.destroyAllWindows() \n",
    "\n",
    "\n",
    "cnts,new = cv2.findContours(edged.copy(), cv2.RETR_LIST, cv2.CHAIN_APPROX_SIMPLE)\n",
    "img1=img.copy()\n",
    "cv2.drawContours(img1,cnts,-1,(0,255,0),3)"
   ]
  },
  {
   "cell_type": "code",
   "execution_count": 12,
   "metadata": {},
   "outputs": [],
   "source": [
    "\n",
    "cnts = sorted(cnts, key = cv2.contourArea, reverse = True)[:30]\n",
    "screenCnt = None #will store the number plate contour\n",
    "img2 = img.copy()\n",
    "cv2.drawContours(img2,cnts,-1,(0,255,0),3) \n",
    "\n",
    "cv2.imshow(\"Contour Image\", img2)\n",
    "cv2.waitKey(0)\n",
    "cv2.destroyAllWindows() \n",
    "\n",
    "\n",
    "count=0\n",
    "idx=7\n",
    "# loop over contours\n",
    "for c in cnts:\n",
    "  # approximate the contour\n",
    "        peri = cv2.arcLength(c, True)\n",
    "        approx = cv2.approxPolyDP(c, 0.018 * peri, True)\n",
    "        if len(approx) == 4: #chooses contours with 4 corners\n",
    "                screenCnt = approx\n",
    "                x,y,w,h = cv2.boundingRect(c) #finds co-ordinates of the plate\n",
    "                new_img=img[y:y+h,x:x+w]\n",
    "                cv2.imwrite('./'+str(idx)+'.png',new_img) #stores the new image\n",
    "                idx+=1\n",
    "                break"
   ]
  },
  {
   "cell_type": "code",
   "execution_count": 13,
   "metadata": {},
   "outputs": [],
   "source": [
    "#draws the selected contour on original image       \n",
    "cv2.drawContours(img, [screenCnt], -1, (0, 255, 0), 3)\n",
    "#cv2.imshow(\"Number_Plate\",img)\n",
    "Cropped_loc='./7.png' #the filename of cropped image\n",
    "cv2.imshow(\"cropped\",cv2.imread(Cropped_loc))\n",
    "cv2.imshow(\"Original Image\",img)\n",
    "cv2.waitKey(0)\n",
    "cv2.destroyAllWindows()"
   ]
  },
  {
   "cell_type": "code",
   "execution_count": 14,
   "metadata": {},
   "outputs": [
    {
     "name": "stdout",
     "output_type": "stream",
     "text": [
      "Number : 15-LK-10898\n",
      "\n"
     ]
    }
   ],
   "source": [
    "\n",
    "pytesseract.pytesseract.tesseract_cmd=r'C:\\\\Program Files\\\\Tesseract-OCR\\\\tesseract.exe' #exe file for using ocr \n",
    "\n",
    "text=pytesseract.image_to_string(Cropped_loc,lang='eng') #converts image characters to string\n",
    "print(\"Number :\" ,text)\n",
    "\n",
    "cv2.imshow(\"Original Image\",img)\n",
    "cv2.waitKey(0)\n",
    "cv2.destroyAllWindows()       "
   ]
  },
  {
   "cell_type": "code",
   "execution_count": null,
   "metadata": {},
   "outputs": [],
   "source": []
  }
 ],
 "metadata": {
  "kernelspec": {
   "display_name": "OCR",
   "language": "python",
   "name": "ocr"
  },
  "language_info": {
   "codemirror_mode": {
    "name": "ipython",
    "version": 3
   },
   "file_extension": ".py",
   "mimetype": "text/x-python",
   "name": "python",
   "nbconvert_exporter": "python",
   "pygments_lexer": "ipython3",
   "version": "3.8.8"
  }
 },
 "nbformat": 4,
 "nbformat_minor": 2
}
